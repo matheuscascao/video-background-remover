{
 "cells": [
  {
   "cell_type": "code",
   "execution_count": null,
   "metadata": {},
   "outputs": [],
   "source": [
    "import imageio.v3\n",
    "import base64\n",
    "import os\n",
    "import requests\n",
    "from typing import List\n",
    "from fastapi import HTTPException\n"
   ]
  },
  {
   "cell_type": "code",
   "execution_count": null,
   "metadata": {},
   "outputs": [],
   "source": [
    "def video_to_base64_array(video_path: str) -> List[str]:\n",
    "    frames = []\n",
    "\n",
    "    reader = imageio.get_reader(video_path, 'ffmpeg')\n",
    "    for frame in reader:\n",
    "        buffer = imageio.imwrite(imageio.RETURN_BYTES, frame, format='JPEG')\n",
    "        base64_frame = base64.b64encode(buffer)\n",
    "        frames.append(base64_frame.decode('utf-8'))\n",
    "    reader.close()\n",
    "\n",
    "    return frames"
   ]
  },
  {
   "cell_type": "code",
   "execution_count": null,
   "metadata": {},
   "outputs": [],
   "source": [
    "frames = video_to_base64_array('files/video.mp4')"
   ]
  },
  {
   "cell_type": "code",
   "execution_count": null,
   "metadata": {},
   "outputs": [],
   "source": [
    "def base64_array_to_video(frames: List[str], output_path: str):\n",
    "    writer = imageio.get_writer(output_path, fps=24)\n",
    "    for frame in frames:\n",
    "        buffer = base64.b64decode(frame)\n",
    "        writer.append_data(imageio.imread(buffer, format='JPEG'))\n",
    "    writer.close()\n",
    "\n"
   ]
  },
  {
   "cell_type": "code",
   "execution_count": null,
   "metadata": {},
   "outputs": [],
   "source": [
    "def remove_video_background(frames: List[str], model: str = 'u2net') -> List[str]:\n",
    "    # Parâmetros da solicitação para a API rembg\n",
    "    url = \"http://127.0.0.1:7860/rembg\"\n",
    "    processed_frames = []\n",
    "    for frame in frames:\n",
    "        data = {\n",
    "        \"input_image\": frame,\n",
    "        \"model\": model,\n",
    "        \"return_mask\": False,\n",
    "        \"alpha_matting\": False,\n",
    "        \"alpha_matting_foreground_threshold\": 240,\n",
    "        \"alpha_matting_background_threshold\": 10,\n",
    "        \"alpha_matting_erode_size\": 10\n",
    "        }\n",
    "         # Enviar a solicitação para a API rembg\n",
    "        response = requests.post(url, json=data)\n",
    "        print(response.json())\n",
    "    \n",
    "        # Verificar a resposta\n",
    "        if response.status_code == 200:\n",
    "            responde_result =  response\n",
    "            #criar uma lista para armazenar as imagens processadas em base64\n",
    "            processed_frames.append(responde_result.json()[\"image\"])\n",
    "        else:\n",
    "            raise HTTPException(status_code=500, detail=\"Internal server error\")\n",
    "    return processed_frames\n",
    "\n",
    "\n",
    "           \n",
    "           \n",
    "\n",
    "        \n"
   ]
  },
  {
   "cell_type": "code",
   "execution_count": null,
   "metadata": {},
   "outputs": [],
   "source": [
    "frames"
   ]
  },
  {
   "cell_type": "code",
   "execution_count": null,
   "metadata": {},
   "outputs": [],
   "source": [
    "processed_frames_bse64 = remove_video_background(frames)"
   ]
  },
  {
   "cell_type": "code",
   "execution_count": null,
   "metadata": {},
   "outputs": [],
   "source": [
    "processed_frames_bse64"
   ]
  },
  {
   "cell_type": "code",
   "execution_count": null,
   "metadata": {},
   "outputs": [],
   "source": [
    "base64_array_to_video(processed_frames_bse64, 'files/video_output.mp4')"
   ]
  },
  {
   "cell_type": "code",
   "execution_count": null,
   "metadata": {},
   "outputs": [],
   "source": [
    "import sys \n",
    "a = sys.getsizeof(processed_frames_bse64)\n",
    "print(a)"
   ]
  }
 ],
 "metadata": {
  "kernelspec": {
   "display_name": "venv",
   "language": "python",
   "name": "python3"
  },
  "language_info": {
   "codemirror_mode": {
    "name": "ipython",
    "version": 3
   },
   "file_extension": ".py",
   "mimetype": "text/x-python",
   "name": "python",
   "nbconvert_exporter": "python",
   "pygments_lexer": "ipython3",
   "version": "3.10.9"
  },
  "orig_nbformat": 4
 },
 "nbformat": 4,
 "nbformat_minor": 2
}
